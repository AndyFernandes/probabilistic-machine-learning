{
  "nbformat": 4,
  "nbformat_minor": 0,
  "metadata": {
    "colab": {
      "name": "Trabalho 03.ipynb",
      "provenance": [],
      "collapsed_sections": []
    },
    "kernelspec": {
      "name": "python3",
      "display_name": "Python 3"
    }
  },
  "cells": [
    {
      "cell_type": "markdown",
      "metadata": {
        "id": "EQ-XZwfEJ1Hg"
      },
      "source": [
        "# Trabalho 03: Naive Bayes Bayesiano\n",
        "Andreza Fernandes de Oliveira - 486243\n"
      ]
    },
    {
      "cell_type": "markdown",
      "metadata": {
        "id": "FRUuj2UNXfkU"
      },
      "source": [
        "### Importações"
      ]
    },
    {
      "cell_type": "code",
      "metadata": {
        "id": "0xXBvz7VzKLo"
      },
      "source": [
        "import pandas as pd\n",
        "import numpy as np\n",
        "import matplotlib.pyplot as plt\n",
        "import seaborn as sns\n",
        "from scipy.stats import multivariate_normal\n",
        "from sklearn.metrics import confusion_matrix\n",
        "from sklearn.model_selection import train_test_split\n",
        "\n",
        "from IPython.display import Image\n",
        "%matplotlib inline\n",
        "\n",
        "path = \"/content/drive/MyDrive/Acadêmico/UFC/Mestrado/Disciplinas/2020.2/Tópicos Especiais em Lógica II/TRABALHOS/Trabalho 03/\""
      ],
      "execution_count": 47,
      "outputs": []
    },
    {
      "cell_type": "markdown",
      "metadata": {
        "id": "cl7ikiCPZ676"
      },
      "source": [
        "## 01. Implementação do modelo de Naive Bayes Bayesiano"
      ]
    },
    {
      "cell_type": "markdown",
      "metadata": {
        "id": "nUAlLEhalBH-"
      },
      "source": [
        "### a. Leitura do dado e tratamento"
      ]
    },
    {
      "cell_type": "code",
      "metadata": {
        "colab": {
          "base_uri": "https://localhost:8080/",
          "height": 356
        },
        "id": "gtONYmTlbG6n",
        "outputId": "2d432d32-abce-4fde-88a9-41a77a7bf6d4"
      },
      "source": [
        "data = pd.read_csv(path+\"votesDataset.csv\", header=None, skiprows=1)\n",
        "data = data.rename(columns={0: 'partido'})\n",
        "data.head(10)"
      ],
      "execution_count": 11,
      "outputs": [
        {
          "output_type": "execute_result",
          "data": {
            "text/html": [
              "<div>\n",
              "<style scoped>\n",
              "    .dataframe tbody tr th:only-of-type {\n",
              "        vertical-align: middle;\n",
              "    }\n",
              "\n",
              "    .dataframe tbody tr th {\n",
              "        vertical-align: top;\n",
              "    }\n",
              "\n",
              "    .dataframe thead th {\n",
              "        text-align: right;\n",
              "    }\n",
              "</style>\n",
              "<table border=\"1\" class=\"dataframe\">\n",
              "  <thead>\n",
              "    <tr style=\"text-align: right;\">\n",
              "      <th></th>\n",
              "      <th>partido</th>\n",
              "      <th>1</th>\n",
              "      <th>2</th>\n",
              "      <th>3</th>\n",
              "      <th>4</th>\n",
              "      <th>5</th>\n",
              "      <th>6</th>\n",
              "      <th>7</th>\n",
              "      <th>8</th>\n",
              "      <th>9</th>\n",
              "      <th>10</th>\n",
              "      <th>11</th>\n",
              "      <th>12</th>\n",
              "      <th>13</th>\n",
              "      <th>14</th>\n",
              "      <th>15</th>\n",
              "      <th>16</th>\n",
              "    </tr>\n",
              "  </thead>\n",
              "  <tbody>\n",
              "    <tr>\n",
              "      <th>0</th>\n",
              "      <td>republican</td>\n",
              "      <td>0</td>\n",
              "      <td>1</td>\n",
              "      <td>0</td>\n",
              "      <td>1</td>\n",
              "      <td>1</td>\n",
              "      <td>1</td>\n",
              "      <td>0</td>\n",
              "      <td>0</td>\n",
              "      <td>0</td>\n",
              "      <td>1</td>\n",
              "      <td>0</td>\n",
              "      <td>1</td>\n",
              "      <td>1</td>\n",
              "      <td>0</td>\n",
              "      <td>0</td>\n",
              "      <td>1</td>\n",
              "    </tr>\n",
              "    <tr>\n",
              "      <th>1</th>\n",
              "      <td>republican</td>\n",
              "      <td>0</td>\n",
              "      <td>1</td>\n",
              "      <td>0</td>\n",
              "      <td>1</td>\n",
              "      <td>1</td>\n",
              "      <td>1</td>\n",
              "      <td>0</td>\n",
              "      <td>0</td>\n",
              "      <td>0</td>\n",
              "      <td>0</td>\n",
              "      <td>0</td>\n",
              "      <td>1</td>\n",
              "      <td>1</td>\n",
              "      <td>0</td>\n",
              "      <td>0</td>\n",
              "      <td>1</td>\n",
              "    </tr>\n",
              "    <tr>\n",
              "      <th>2</th>\n",
              "      <td>democrat</td>\n",
              "      <td>0</td>\n",
              "      <td>1</td>\n",
              "      <td>1</td>\n",
              "      <td>0</td>\n",
              "      <td>1</td>\n",
              "      <td>1</td>\n",
              "      <td>0</td>\n",
              "      <td>0</td>\n",
              "      <td>0</td>\n",
              "      <td>0</td>\n",
              "      <td>1</td>\n",
              "      <td>0</td>\n",
              "      <td>1</td>\n",
              "      <td>0</td>\n",
              "      <td>0</td>\n",
              "      <td>0</td>\n",
              "    </tr>\n",
              "    <tr>\n",
              "      <th>3</th>\n",
              "      <td>democrat</td>\n",
              "      <td>0</td>\n",
              "      <td>1</td>\n",
              "      <td>1</td>\n",
              "      <td>0</td>\n",
              "      <td>1</td>\n",
              "      <td>1</td>\n",
              "      <td>0</td>\n",
              "      <td>0</td>\n",
              "      <td>0</td>\n",
              "      <td>0</td>\n",
              "      <td>1</td>\n",
              "      <td>0</td>\n",
              "      <td>1</td>\n",
              "      <td>0</td>\n",
              "      <td>0</td>\n",
              "      <td>1</td>\n",
              "    </tr>\n",
              "    <tr>\n",
              "      <th>4</th>\n",
              "      <td>democrat</td>\n",
              "      <td>1</td>\n",
              "      <td>1</td>\n",
              "      <td>1</td>\n",
              "      <td>0</td>\n",
              "      <td>1</td>\n",
              "      <td>1</td>\n",
              "      <td>0</td>\n",
              "      <td>0</td>\n",
              "      <td>0</td>\n",
              "      <td>0</td>\n",
              "      <td>1</td>\n",
              "      <td>0</td>\n",
              "      <td>1</td>\n",
              "      <td>0</td>\n",
              "      <td>1</td>\n",
              "      <td>1</td>\n",
              "    </tr>\n",
              "    <tr>\n",
              "      <th>5</th>\n",
              "      <td>democrat</td>\n",
              "      <td>0</td>\n",
              "      <td>1</td>\n",
              "      <td>1</td>\n",
              "      <td>0</td>\n",
              "      <td>1</td>\n",
              "      <td>1</td>\n",
              "      <td>0</td>\n",
              "      <td>0</td>\n",
              "      <td>0</td>\n",
              "      <td>0</td>\n",
              "      <td>0</td>\n",
              "      <td>0</td>\n",
              "      <td>1</td>\n",
              "      <td>0</td>\n",
              "      <td>1</td>\n",
              "      <td>1</td>\n",
              "    </tr>\n",
              "    <tr>\n",
              "      <th>6</th>\n",
              "      <td>democrat</td>\n",
              "      <td>0</td>\n",
              "      <td>1</td>\n",
              "      <td>0</td>\n",
              "      <td>1</td>\n",
              "      <td>1</td>\n",
              "      <td>1</td>\n",
              "      <td>0</td>\n",
              "      <td>0</td>\n",
              "      <td>0</td>\n",
              "      <td>0</td>\n",
              "      <td>0</td>\n",
              "      <td>0</td>\n",
              "      <td>1</td>\n",
              "      <td>0</td>\n",
              "      <td>1</td>\n",
              "      <td>1</td>\n",
              "    </tr>\n",
              "    <tr>\n",
              "      <th>7</th>\n",
              "      <td>republican</td>\n",
              "      <td>0</td>\n",
              "      <td>1</td>\n",
              "      <td>0</td>\n",
              "      <td>1</td>\n",
              "      <td>1</td>\n",
              "      <td>1</td>\n",
              "      <td>0</td>\n",
              "      <td>0</td>\n",
              "      <td>0</td>\n",
              "      <td>0</td>\n",
              "      <td>0</td>\n",
              "      <td>0</td>\n",
              "      <td>1</td>\n",
              "      <td>0</td>\n",
              "      <td>0</td>\n",
              "      <td>1</td>\n",
              "    </tr>\n",
              "    <tr>\n",
              "      <th>8</th>\n",
              "      <td>republican</td>\n",
              "      <td>0</td>\n",
              "      <td>1</td>\n",
              "      <td>0</td>\n",
              "      <td>1</td>\n",
              "      <td>1</td>\n",
              "      <td>1</td>\n",
              "      <td>0</td>\n",
              "      <td>0</td>\n",
              "      <td>0</td>\n",
              "      <td>0</td>\n",
              "      <td>0</td>\n",
              "      <td>1</td>\n",
              "      <td>1</td>\n",
              "      <td>0</td>\n",
              "      <td>0</td>\n",
              "      <td>1</td>\n",
              "    </tr>\n",
              "    <tr>\n",
              "      <th>9</th>\n",
              "      <td>democrat</td>\n",
              "      <td>1</td>\n",
              "      <td>1</td>\n",
              "      <td>1</td>\n",
              "      <td>0</td>\n",
              "      <td>0</td>\n",
              "      <td>0</td>\n",
              "      <td>1</td>\n",
              "      <td>1</td>\n",
              "      <td>1</td>\n",
              "      <td>0</td>\n",
              "      <td>0</td>\n",
              "      <td>0</td>\n",
              "      <td>0</td>\n",
              "      <td>1</td>\n",
              "      <td>0</td>\n",
              "      <td>1</td>\n",
              "    </tr>\n",
              "  </tbody>\n",
              "</table>\n",
              "</div>"
            ],
            "text/plain": [
              "      partido  1  2  3  4  5  6  7  8  9  10  11  12  13  14  15  16\n",
              "0  republican  0  1  0  1  1  1  0  0  0   1   0   1   1   0   0   1\n",
              "1  republican  0  1  0  1  1  1  0  0  0   0   0   1   1   0   0   1\n",
              "2    democrat  0  1  1  0  1  1  0  0  0   0   1   0   1   0   0   0\n",
              "3    democrat  0  1  1  0  1  1  0  0  0   0   1   0   1   0   0   1\n",
              "4    democrat  1  1  1  0  1  1  0  0  0   0   1   0   1   0   1   1\n",
              "5    democrat  0  1  1  0  1  1  0  0  0   0   0   0   1   0   1   1\n",
              "6    democrat  0  1  0  1  1  1  0  0  0   0   0   0   1   0   1   1\n",
              "7  republican  0  1  0  1  1  1  0  0  0   0   0   0   1   0   0   1\n",
              "8  republican  0  1  0  1  1  1  0  0  0   0   0   1   1   0   0   1\n",
              "9    democrat  1  1  1  0  0  0  1  1  1   0   0   0   0   1   0   1"
            ]
          },
          "metadata": {
            "tags": []
          },
          "execution_count": 11
        }
      ]
    },
    {
      "cell_type": "code",
      "metadata": {
        "colab": {
          "base_uri": "https://localhost:8080/"
        },
        "id": "o1S3n_RSkwCI",
        "outputId": "df0c870e-76d4-4991-8550-a890e182ecb9"
      },
      "source": [
        "# Tamanho do dado\n",
        "data.shape"
      ],
      "execution_count": 12,
      "outputs": [
        {
          "output_type": "execute_result",
          "data": {
            "text/plain": [
              "(435, 17)"
            ]
          },
          "metadata": {
            "tags": []
          },
          "execution_count": 12
        }
      ]
    },
    {
      "cell_type": "code",
      "metadata": {
        "colab": {
          "base_uri": "https://localhost:8080/"
        },
        "id": "Qv1lYW05Hdap",
        "outputId": "e518c16f-88b1-4f78-fc75-d1ac338cf6dd"
      },
      "source": [
        "# Verificando a quantidade por partido\n",
        "classes = data[\"partido\"].unique()\n",
        "classes, data[\"partido\"].value_counts()"
      ],
      "execution_count": 62,
      "outputs": [
        {
          "output_type": "execute_result",
          "data": {
            "text/plain": [
              "(array(['republican', 'democrat'], dtype=object), democrat      267\n",
              " republican    168\n",
              " Name: partido, dtype: int64)"
            ]
          },
          "metadata": {
            "tags": []
          },
          "execution_count": 62
        }
      ]
    },
    {
      "cell_type": "code",
      "metadata": {
        "colab": {
          "base_uri": "https://localhost:8080/"
        },
        "id": "HKtyR23WZRJW",
        "outputId": "d072e61a-3978-4e27-c6ee-afafa9ebbd47"
      },
      "source": [
        "# Separação dos conjuntos de treino e teste\n",
        "X = data.iloc[:, 1:17]\n",
        "y = data.iloc[:, 0]\n",
        "x_train, x_test, y_train, y_test = train_test_split(X, y, test_size=0.2, random_state=42)\n",
        "print(x_train.shape, x_test.shape, y_train.shape, y_test.shape)"
      ],
      "execution_count": 27,
      "outputs": [
        {
          "output_type": "stream",
          "text": [
            "(348, 16) (87, 16) (348,) (87,)\n"
          ],
          "name": "stdout"
        }
      ]
    },
    {
      "cell_type": "markdown",
      "metadata": {
        "id": "XAzaF8GUlEo5"
      },
      "source": [
        "## b. Implementação do Naive Bayes Bayesiano"
      ]
    },
    {
      "cell_type": "markdown",
      "metadata": {
        "id": "5xgtWz4gmeLw"
      },
      "source": [
        "### Definição das Prioris"
      ]
    },
    {
      "cell_type": "markdown",
      "metadata": {
        "id": "-AHxhZ1LfMYk"
      },
      "source": [
        "Escolhemos a priori fatorada para os parâmetros $p(θ)$:"
      ]
    },
    {
      "cell_type": "code",
      "metadata": {
        "colab": {
          "base_uri": "https://localhost:8080/",
          "height": 74
        },
        "id": "mo4Whk8RfLi_",
        "outputId": "5752f969-739d-46c6-b653-8c54278d784e"
      },
      "source": [
        "Image(filename=path+'/imgs/formula_priori.png') "
      ],
      "execution_count": 46,
      "outputs": [
        {
          "output_type": "execute_result",
          "data": {
            "image/png": "[encoded data removed]",
            "text/plain": [
              "<IPython.core.display.Image object>"
            ]
          },
          "metadata": {
            "tags": []
          },
          "execution_count": 46
        }
      ]
    },
    {
      "cell_type": "markdown",
      "metadata": {
        "id": "0L4K0YGQc2ZC"
      },
      "source": [
        "Para cada atributo de cada classe ($\\theta_{dc}$), assumimos uma distribuição Beta, onde os valores são ruídos gerados aleatoriamente.\n",
        "\n",
        "$p(θ_dc) = Beta(θ_dc|a, b)$."
      ]
    },
    {
      "cell_type": "code",
      "metadata": {
        "colab": {
          "base_uri": "https://localhost:8080/"
        },
        "id": "d5Q4nYn9dDRk",
        "outputId": "2040f4d6-19c8-41f4-87e4-a30c2a096dc1"
      },
      "source": [
        "n_classes = len(data['partido'].unique())\n",
        "n_features = data.shape[1] - 1\n",
        "\n",
        "def generate_random_values(num_attr):\n",
        "    return np.array([np.random.rand() for _ in range(num_attr)])\n",
        "\n",
        "alpha = [ 1 for _ in range(n_classes)] # seguindo o Bishop\n",
        "a = np.array([generate_random_values(n_features) for _ in range(n_classes)])\n",
        "b = np.array([generate_random_values(n_features) for _ in range(n_classes)])\n",
        "\n",
        "a, b"
      ],
      "execution_count": 44,
      "outputs": [
        {
          "output_type": "execute_result",
          "data": {
            "text/plain": [
              "(array([[0.88091548, 0.28546425, 0.31660994, 0.82567175, 0.79893866,\n",
              "         0.12980725, 0.93569783, 0.4780888 , 0.01447185, 0.72517059,\n",
              "         0.29825878, 0.61455251, 0.2113174 , 0.77804752, 0.45926296,\n",
              "         0.20104118],\n",
              "        [0.27860924, 0.80506306, 0.13967751, 0.91281415, 0.40062079,\n",
              "         0.28472217, 0.67126161, 0.24725216, 0.52654557, 0.11440437,\n",
              "         0.36092344, 0.82948771, 0.02658431, 0.418362  , 0.1578105 ,\n",
              "         0.03292856]]),\n",
              " array([[0.57785613, 0.76929267, 0.09062118, 0.37165579, 0.83280567,\n",
              "         0.96056435, 0.3435167 , 0.37273071, 0.2881906 , 0.5459562 ,\n",
              "         0.2583854 , 0.72769103, 0.71106265, 0.12653429, 0.91814588,\n",
              "         0.66432118],\n",
              "        [0.55717068, 0.6345871 , 0.17893797, 0.44715688, 0.44414428,\n",
              "         0.38222382, 0.55984133, 0.06097676, 0.41425213, 0.49199059,\n",
              "         0.29700185, 0.56215765, 0.50152293, 0.89167986, 0.83632021,\n",
              "         0.30039359]]))"
            ]
          },
          "metadata": {
            "tags": []
          },
          "execution_count": 44
        }
      ]
    },
    {
      "cell_type": "markdown",
      "metadata": {
        "id": "FO3l94x1kaoX"
      },
      "source": [
        "Para a distribuição de Dirichlet $p(π) = Dir(π|α)$, atribuímos um valor alpha de relevância para cada classe. Assumimos que ambas tem relevância igual."
      ]
    },
    {
      "cell_type": "code",
      "metadata": {
        "id": "isLmxV-okkJ8"
      },
      "source": [
        "alpha = [ 1 for _ in range(n_classes)] # seguindo o Bishop"
      ],
      "execution_count": 57,
      "outputs": []
    },
    {
      "cell_type": "markdown",
      "metadata": {
        "id": "c1Omdq11mjUA"
      },
      "source": [
        "### Definição das posterioris"
      ]
    },
    {
      "cell_type": "markdown",
      "metadata": {
        "id": "ntNdXgvykwID"
      },
      "source": [
        "Agora, definimos As posteriori seguindo os modelos beta-binomial e\n",
        "Dirichlet-multinomial:\n",
        "\n"
      ]
    },
    {
      "cell_type": "code",
      "metadata": {
        "colab": {
          "base_uri": "https://localhost:8080/",
          "height": 118
        },
        "id": "ZXhqZoMBlHbo",
        "outputId": "cb0c6258-c416-4708-e45e-edbb3821aeba"
      },
      "source": [
        "Image(filename=path+'/imgs/formulas_posteriori.png') "
      ],
      "execution_count": 58,
      "outputs": [
        {
          "output_type": "execute_result",
          "data": {
            "image/png": "[encoded data removed]",
            "text/plain": [
              "<IPython.core.display.Image object>"
            ]
          },
          "metadata": {
            "tags": []
          },
          "execution_count": 58
        }
      ]
    },
    {
      "cell_type": "markdown",
      "metadata": {
        "id": "UUMpXXFqaWEa"
      },
      "source": [
        "Onde, temos:"
      ]
    },
    {
      "cell_type": "code",
      "metadata": {
        "colab": {
          "base_uri": "https://localhost:8080/",
          "height": 120
        },
        "id": "msBz6po0cIIY",
        "outputId": "2fed2cdb-7558-47ad-abb7-18207f070e49"
      },
      "source": [
        "Image(filename=path+'/imgs/formulas_O_e_pi.png') "
      ],
      "execution_count": 61,
      "outputs": [
        {
          "output_type": "execute_result",
          "data": {
            "image/png": "[encoded data removed]",
            "text/plain": [
              "<IPython.core.display.Image object>"
            ]
          },
          "metadata": {
            "tags": []
          },
          "execution_count": 61
        }
      ]
    },
    {
      "cell_type": "code",
      "metadata": {
        "colab": {
          "base_uri": "https://localhost:8080/"
        },
        "id": "5kGFodCtmoQw",
        "outputId": "7fe823f3-6214-4658-eb8c-907992e87623"
      },
      "source": [
        "thetas = []\n",
        "pis = []\n",
        "\n",
        "for index, classe in enumerate(classes):\n",
        "    X_c = x_train[y_train == classe]\n",
        "    \n",
        "    N_c = X_c.shape[0]\n",
        "    N_dc = np.sum(X_c, axis = 0)\n",
        "    \n",
        "    a_c = a[index,:]\n",
        "    b_c = b[index,:]\n",
        "    \n",
        "    theta_dc = (N_dc + b_c)/(N_c + a_c + b_c)\n",
        "    pi_c = (N_c + alpha[index])/(x_train.shape[0] + sum(alpha))\n",
        "    \n",
        "    thetas.append(theta_dc)\n",
        "    pis.append(pi_c)\n",
        "\n",
        "thetas, pis"
      ],
      "execution_count": 65,
      "outputs": [
        {
          "output_type": "execute_result",
          "data": {
            "text/plain": [
              "([1     0.191955\n",
              "  2     0.432939\n",
              "  3     0.131657\n",
              "  4     0.965081\n",
              "  5     0.958170\n",
              "  6     0.912160\n",
              "  7     0.284522\n",
              "  8     0.213076\n",
              "  9     0.096780\n",
              "  10    0.575290\n",
              "  11    0.110924\n",
              "  12    0.793161\n",
              "  13    0.860709\n",
              "  14    0.283722\n",
              "  15    0.093354\n",
              "  16    0.708404\n",
              "  dtype: float64, 1     0.583269\n",
              "  2     0.445466\n",
              "  3     0.871570\n",
              "  4     0.058613\n",
              "  5     0.252280\n",
              "  6     0.488419\n",
              "  7     0.789516\n",
              "  8     0.818998\n",
              "  9     0.686108\n",
              "  10    0.460723\n",
              "  11    0.483313\n",
              "  12    0.148604\n",
              "  13    0.304931\n",
              "  14    0.790785\n",
              "  15    0.631321\n",
              "  16    0.961989\n",
              "  dtype: float64], [0.3942857142857143, 0.6057142857142858])"
            ]
          },
          "metadata": {
            "tags": []
          },
          "execution_count": 65
        }
      ]
    },
    {
      "cell_type": "markdown",
      "metadata": {
        "id": "JNtMgk3Kn-0d"
      },
      "source": [
        "### Predição "
      ]
    },
    {
      "cell_type": "markdown",
      "metadata": {
        "id": "uzrffNMnoB7z"
      },
      "source": [
        "Agora que temos os   $θ_dc$  e  $π_c$, vamos a predição! Bem, como definido no slide, podemos obter o rótulo de um padrão seguindo a fórmula a seguir. Aqui obtemos a probabilidade de pertence para cada classe."
      ]
    },
    {
      "cell_type": "code",
      "metadata": {
        "colab": {
          "base_uri": "https://localhost:8080/",
          "height": 85
        },
        "id": "MXZjS81Cq9Pz",
        "outputId": "905b5c57-5eb8-4f94-8db0-ac0526bb0d15"
      },
      "source": [
        "Image(filename=path+'/imgs/calculo_do_y.png')"
      ],
      "execution_count": 66,
      "outputs": [
        {
          "output_type": "execute_result",
          "data": {
            "image/png": "[encoded data removed]",
            "text/plain": [
              "<IPython.core.display.Image object>"
            ]
          },
          "metadata": {
            "tags": []
          },
          "execution_count": 66
        }
      ]
    },
    {
      "cell_type": "markdown",
      "metadata": {
        "id": "OlyqmC-8rCeI"
      },
      "source": [
        "Daí, a gente obtém o y final vendo qual classe tem maior probabilidade!"
      ]
    },
    {
      "cell_type": "code",
      "metadata": {
        "colab": {
          "base_uri": "https://localhost:8080/",
          "height": 77
        },
        "id": "OmQ0eN7irME_",
        "outputId": "b8a22c38-af24-4c3f-d5c8-0397b3e436e2"
      },
      "source": [
        "Image(filename=path+'/imgs/calculo_max_prob_do_y.png') "
      ],
      "execution_count": 67,
      "outputs": [
        {
          "output_type": "execute_result",
          "data": {
            "image/png": "[encoded data removed]",
            "text/plain": [
              "<IPython.core.display.Image object>"
            ]
          },
          "metadata": {
            "tags": []
          },
          "execution_count": 67
        }
      ]
    },
    {
      "cell_type": "code",
      "metadata": {
        "colab": {
          "base_uri": "https://localhost:8080/"
        },
        "id": "h_0ROWTorUfq",
        "outputId": "1aad49e3-bb36-4eed-b468-ef95e3109af8"
      },
      "source": [
        "\n",
        "predictions = []\n",
        "\n",
        "for index, x in x_test.iterrows():\n",
        "    probabilitys = []\n",
        "\n",
        "    for c, theta, pi in zip(classes, thetas, pis):\n",
        "        y_pred = pi * np.prod((theta ** x) * (1 - theta) ** (1 - x))\n",
        "        probabilitys.append(y_pred)\n",
        "\n",
        "    predictions.append(classes[np.argmax(probabilitys)])\n",
        "\n",
        "predictions"
      ],
      "execution_count": 77,
      "outputs": [
        {
          "output_type": "execute_result",
          "data": {
            "text/plain": [
              "['democrat',\n",
              " 'democrat',\n",
              " 'republican',\n",
              " 'republican',\n",
              " 'republican',\n",
              " 'republican',\n",
              " 'democrat',\n",
              " 'republican',\n",
              " 'republican',\n",
              " 'republican',\n",
              " 'republican',\n",
              " 'republican',\n",
              " 'democrat',\n",
              " 'democrat',\n",
              " 'republican',\n",
              " 'republican',\n",
              " 'republican',\n",
              " 'democrat',\n",
              " 'democrat',\n",
              " 'democrat',\n",
              " 'democrat',\n",
              " 'democrat',\n",
              " 'republican',\n",
              " 'democrat',\n",
              " 'republican',\n",
              " 'democrat',\n",
              " 'democrat',\n",
              " 'democrat',\n",
              " 'democrat',\n",
              " 'republican',\n",
              " 'republican',\n",
              " 'democrat',\n",
              " 'republican',\n",
              " 'democrat',\n",
              " 'democrat',\n",
              " 'democrat',\n",
              " 'democrat',\n",
              " 'democrat',\n",
              " 'democrat',\n",
              " 'republican',\n",
              " 'democrat',\n",
              " 'democrat',\n",
              " 'republican',\n",
              " 'republican',\n",
              " 'democrat',\n",
              " 'republican',\n",
              " 'democrat',\n",
              " 'democrat',\n",
              " 'republican',\n",
              " 'democrat',\n",
              " 'democrat',\n",
              " 'republican',\n",
              " 'democrat',\n",
              " 'democrat',\n",
              " 'republican',\n",
              " 'democrat',\n",
              " 'republican',\n",
              " 'democrat',\n",
              " 'republican',\n",
              " 'democrat',\n",
              " 'democrat',\n",
              " 'democrat',\n",
              " 'democrat',\n",
              " 'democrat',\n",
              " 'democrat',\n",
              " 'republican',\n",
              " 'democrat',\n",
              " 'democrat',\n",
              " 'democrat',\n",
              " 'democrat',\n",
              " 'democrat',\n",
              " 'republican',\n",
              " 'democrat',\n",
              " 'democrat',\n",
              " 'democrat',\n",
              " 'republican',\n",
              " 'democrat',\n",
              " 'democrat',\n",
              " 'democrat',\n",
              " 'democrat',\n",
              " 'democrat',\n",
              " 'republican',\n",
              " 'democrat',\n",
              " 'republican',\n",
              " 'republican',\n",
              " 'democrat',\n",
              " 'democrat']"
            ]
          },
          "metadata": {
            "tags": []
          },
          "execution_count": 77
        }
      ]
    },
    {
      "cell_type": "code",
      "metadata": {
        "colab": {
          "base_uri": "https://localhost:8080/"
        },
        "id": "WjQLuFG-rqlZ",
        "outputId": "7dac6bde-618c-4400-b8ff-fe297fa8cd66"
      },
      "source": [
        "len(y_test), len(predictions)"
      ],
      "execution_count": 78,
      "outputs": [
        {
          "output_type": "execute_result",
          "data": {
            "text/plain": [
              "(87, 87)"
            ]
          },
          "metadata": {
            "tags": []
          },
          "execution_count": 78
        }
      ]
    },
    {
      "cell_type": "markdown",
      "metadata": {
        "id": "krYXam10rj3C"
      },
      "source": [
        "### Visualização da Matriz de Confusão"
      ]
    },
    {
      "cell_type": "code",
      "metadata": {
        "colab": {
          "base_uri": "https://localhost:8080/",
          "height": 286
        },
        "id": "-4nmvXZsrmG7",
        "outputId": "5c5a6740-bb22-4d40-9cf4-0b5fd13ed1d7"
      },
      "source": [
        "from sklearn.metrics import confusion_matrix\n",
        "\n",
        "confusion_matrix = confusion_matrix(y_test, predictions, labels=classes)\n",
        "sns.heatmap(confusion_matrix, annot=True)"
      ],
      "execution_count": 79,
      "outputs": [
        {
          "output_type": "execute_result",
          "data": {
            "text/plain": [
              "<matplotlib.axes._subplots.AxesSubplot at 0x7fc97db24310>"
            ]
          },
          "metadata": {
            "tags": []
          },
          "execution_count": 79
        },
        {
          "output_type": "display_data",
          "data": {
            "image/png": "[encoded data removed]",
            "text/plain": [
              "<Figure size 432x288 with 2 Axes>"
            ]
          },
          "metadata": {
            "tags": [],
            "needs_background": "light"
          }
        }
      ]
    },
    {
      "cell_type": "markdown",
      "metadata": {
        "id": "4ZiiYZgCaCtz"
      },
      "source": [
        "### Bibliografia\n",
        "\n",
        "- Slides professor\n",
        "- Pattern Recognition and Machine Learning, BISHOP, Christopher M."
      ]
    }
  ]
}