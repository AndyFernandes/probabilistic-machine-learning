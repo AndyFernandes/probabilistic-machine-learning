{
  "nbformat": 4,
  "nbformat_minor": 0,
  "metadata": {
    "colab": {
      "name": "Trabalho 03.ipynb",
      "provenance": [],
      "collapsed_sections": []
    },
    "kernelspec": {
      "name": "python3",
      "display_name": "Python 3"
    }
  },
  "cells": [
    {
      "cell_type": "markdown",
      "metadata": {
        "id": "EQ-XZwfEJ1Hg"
      },
      "source": [
        "# Trabalho 03: Naive Bayes Bayesiano\n",
        "Andreza Fernandes de Oliveira\n"
      ]
    },
    {
      "cell_type": "code",
      "metadata": {
        "id": "0xXBvz7VzKLo"
      },
      "source": [
        "import pandas as pd\n",
        "import numpy as np\n",
        "import matplotlib.pyplot as plt\n",
        "from scipy.stats import multivariate_normal\n",
        "%matplotlib inline\n",
        "\n",
        "path = \"/content/drive/MyDrive/Acadêmico/UFC/Mestrado/Disciplinas/2020.2/Tópicos Especiais em Lógica II/TRABALHOS/Trabalho 03/\""
      ],
      "execution_count": 11,
      "outputs": []
    },
    {
      "cell_type": "markdown",
      "metadata": {
        "id": "cl7ikiCPZ676"
      },
      "source": [
        "## 01. Implementação do modelo de Naive Bayes Bayesiano"
      ]
    },
    {
      "cell_type": "markdown",
      "metadata": {
        "id": "nUAlLEhalBH-"
      },
      "source": [
        "### a. Leitura do dado e tratamento"
      ]
    },
    {
      "cell_type": "code",
      "metadata": {
        "colab": {
          "base_uri": "https://localhost:8080/",
          "height": 331
        },
        "id": "gtONYmTlbG6n",
        "outputId": "76eafd99-ea60-43eb-eb96-0151cfb7ca98"
      },
      "source": [
        "data = pd.read_csv(path+\"votesDataset.csv\", header=None)\n",
        "data.head(10)"
      ],
      "execution_count": 3,
      "outputs": [
        {
          "output_type": "execute_result",
          "data": {
            "text/html": [
              "<div>\n",
              "<style scoped>\n",
              "    .dataframe tbody tr th:only-of-type {\n",
              "        vertical-align: middle;\n",
              "    }\n",
              "\n",
              "    .dataframe tbody tr th {\n",
              "        vertical-align: top;\n",
              "    }\n",
              "\n",
              "    .dataframe thead th {\n",
              "        text-align: right;\n",
              "    }\n",
              "</style>\n",
              "<table border=\"1\" class=\"dataframe\">\n",
              "  <thead>\n",
              "    <tr style=\"text-align: right;\">\n",
              "      <th></th>\n",
              "      <th>0</th>\n",
              "      <th>1</th>\n",
              "      <th>2</th>\n",
              "      <th>3</th>\n",
              "      <th>4</th>\n",
              "      <th>5</th>\n",
              "      <th>6</th>\n",
              "      <th>7</th>\n",
              "      <th>8</th>\n",
              "      <th>9</th>\n",
              "      <th>10</th>\n",
              "      <th>11</th>\n",
              "      <th>12</th>\n",
              "      <th>13</th>\n",
              "      <th>14</th>\n",
              "      <th>15</th>\n",
              "      <th>16</th>\n",
              "    </tr>\n",
              "  </thead>\n",
              "  <tbody>\n",
              "    <tr>\n",
              "      <th>0</th>\n",
              "      <td>NaN</td>\n",
              "      <td>NaN</td>\n",
              "      <td>NaN</td>\n",
              "      <td>NaN</td>\n",
              "      <td>NaN</td>\n",
              "      <td>NaN</td>\n",
              "      <td>NaN</td>\n",
              "      <td>NaN</td>\n",
              "      <td>NaN</td>\n",
              "      <td>NaN</td>\n",
              "      <td>NaN</td>\n",
              "      <td>NaN</td>\n",
              "      <td>NaN</td>\n",
              "      <td>NaN</td>\n",
              "      <td>NaN</td>\n",
              "      <td>NaN</td>\n",
              "      <td>NaN</td>\n",
              "    </tr>\n",
              "    <tr>\n",
              "      <th>1</th>\n",
              "      <td>republican</td>\n",
              "      <td>0.0</td>\n",
              "      <td>1.0</td>\n",
              "      <td>0.0</td>\n",
              "      <td>1.0</td>\n",
              "      <td>1.0</td>\n",
              "      <td>1.0</td>\n",
              "      <td>0.0</td>\n",
              "      <td>0.0</td>\n",
              "      <td>0.0</td>\n",
              "      <td>1.0</td>\n",
              "      <td>0.0</td>\n",
              "      <td>1.0</td>\n",
              "      <td>1.0</td>\n",
              "      <td>0.0</td>\n",
              "      <td>0.0</td>\n",
              "      <td>1.0</td>\n",
              "    </tr>\n",
              "    <tr>\n",
              "      <th>2</th>\n",
              "      <td>republican</td>\n",
              "      <td>0.0</td>\n",
              "      <td>1.0</td>\n",
              "      <td>0.0</td>\n",
              "      <td>1.0</td>\n",
              "      <td>1.0</td>\n",
              "      <td>1.0</td>\n",
              "      <td>0.0</td>\n",
              "      <td>0.0</td>\n",
              "      <td>0.0</td>\n",
              "      <td>0.0</td>\n",
              "      <td>0.0</td>\n",
              "      <td>1.0</td>\n",
              "      <td>1.0</td>\n",
              "      <td>0.0</td>\n",
              "      <td>0.0</td>\n",
              "      <td>1.0</td>\n",
              "    </tr>\n",
              "    <tr>\n",
              "      <th>3</th>\n",
              "      <td>democrat</td>\n",
              "      <td>0.0</td>\n",
              "      <td>1.0</td>\n",
              "      <td>1.0</td>\n",
              "      <td>0.0</td>\n",
              "      <td>1.0</td>\n",
              "      <td>1.0</td>\n",
              "      <td>0.0</td>\n",
              "      <td>0.0</td>\n",
              "      <td>0.0</td>\n",
              "      <td>0.0</td>\n",
              "      <td>1.0</td>\n",
              "      <td>0.0</td>\n",
              "      <td>1.0</td>\n",
              "      <td>0.0</td>\n",
              "      <td>0.0</td>\n",
              "      <td>0.0</td>\n",
              "    </tr>\n",
              "    <tr>\n",
              "      <th>4</th>\n",
              "      <td>democrat</td>\n",
              "      <td>0.0</td>\n",
              "      <td>1.0</td>\n",
              "      <td>1.0</td>\n",
              "      <td>0.0</td>\n",
              "      <td>1.0</td>\n",
              "      <td>1.0</td>\n",
              "      <td>0.0</td>\n",
              "      <td>0.0</td>\n",
              "      <td>0.0</td>\n",
              "      <td>0.0</td>\n",
              "      <td>1.0</td>\n",
              "      <td>0.0</td>\n",
              "      <td>1.0</td>\n",
              "      <td>0.0</td>\n",
              "      <td>0.0</td>\n",
              "      <td>1.0</td>\n",
              "    </tr>\n",
              "    <tr>\n",
              "      <th>5</th>\n",
              "      <td>democrat</td>\n",
              "      <td>1.0</td>\n",
              "      <td>1.0</td>\n",
              "      <td>1.0</td>\n",
              "      <td>0.0</td>\n",
              "      <td>1.0</td>\n",
              "      <td>1.0</td>\n",
              "      <td>0.0</td>\n",
              "      <td>0.0</td>\n",
              "      <td>0.0</td>\n",
              "      <td>0.0</td>\n",
              "      <td>1.0</td>\n",
              "      <td>0.0</td>\n",
              "      <td>1.0</td>\n",
              "      <td>0.0</td>\n",
              "      <td>1.0</td>\n",
              "      <td>1.0</td>\n",
              "    </tr>\n",
              "    <tr>\n",
              "      <th>6</th>\n",
              "      <td>democrat</td>\n",
              "      <td>0.0</td>\n",
              "      <td>1.0</td>\n",
              "      <td>1.0</td>\n",
              "      <td>0.0</td>\n",
              "      <td>1.0</td>\n",
              "      <td>1.0</td>\n",
              "      <td>0.0</td>\n",
              "      <td>0.0</td>\n",
              "      <td>0.0</td>\n",
              "      <td>0.0</td>\n",
              "      <td>0.0</td>\n",
              "      <td>0.0</td>\n",
              "      <td>1.0</td>\n",
              "      <td>0.0</td>\n",
              "      <td>1.0</td>\n",
              "      <td>1.0</td>\n",
              "    </tr>\n",
              "    <tr>\n",
              "      <th>7</th>\n",
              "      <td>democrat</td>\n",
              "      <td>0.0</td>\n",
              "      <td>1.0</td>\n",
              "      <td>0.0</td>\n",
              "      <td>1.0</td>\n",
              "      <td>1.0</td>\n",
              "      <td>1.0</td>\n",
              "      <td>0.0</td>\n",
              "      <td>0.0</td>\n",
              "      <td>0.0</td>\n",
              "      <td>0.0</td>\n",
              "      <td>0.0</td>\n",
              "      <td>0.0</td>\n",
              "      <td>1.0</td>\n",
              "      <td>0.0</td>\n",
              "      <td>1.0</td>\n",
              "      <td>1.0</td>\n",
              "    </tr>\n",
              "    <tr>\n",
              "      <th>8</th>\n",
              "      <td>republican</td>\n",
              "      <td>0.0</td>\n",
              "      <td>1.0</td>\n",
              "      <td>0.0</td>\n",
              "      <td>1.0</td>\n",
              "      <td>1.0</td>\n",
              "      <td>1.0</td>\n",
              "      <td>0.0</td>\n",
              "      <td>0.0</td>\n",
              "      <td>0.0</td>\n",
              "      <td>0.0</td>\n",
              "      <td>0.0</td>\n",
              "      <td>0.0</td>\n",
              "      <td>1.0</td>\n",
              "      <td>0.0</td>\n",
              "      <td>0.0</td>\n",
              "      <td>1.0</td>\n",
              "    </tr>\n",
              "    <tr>\n",
              "      <th>9</th>\n",
              "      <td>republican</td>\n",
              "      <td>0.0</td>\n",
              "      <td>1.0</td>\n",
              "      <td>0.0</td>\n",
              "      <td>1.0</td>\n",
              "      <td>1.0</td>\n",
              "      <td>1.0</td>\n",
              "      <td>0.0</td>\n",
              "      <td>0.0</td>\n",
              "      <td>0.0</td>\n",
              "      <td>0.0</td>\n",
              "      <td>0.0</td>\n",
              "      <td>1.0</td>\n",
              "      <td>1.0</td>\n",
              "      <td>0.0</td>\n",
              "      <td>0.0</td>\n",
              "      <td>1.0</td>\n",
              "    </tr>\n",
              "  </tbody>\n",
              "</table>\n",
              "</div>"
            ],
            "text/plain": [
              "           0    1    2    3    4    5    6   ...   10   11   12   13   14   15   16\n",
              "0         NaN  NaN  NaN  NaN  NaN  NaN  NaN  ...  NaN  NaN  NaN  NaN  NaN  NaN  NaN\n",
              "1  republican  0.0  1.0  0.0  1.0  1.0  1.0  ...  1.0  0.0  1.0  1.0  0.0  0.0  1.0\n",
              "2  republican  0.0  1.0  0.0  1.0  1.0  1.0  ...  0.0  0.0  1.0  1.0  0.0  0.0  1.0\n",
              "3    democrat  0.0  1.0  1.0  0.0  1.0  1.0  ...  0.0  1.0  0.0  1.0  0.0  0.0  0.0\n",
              "4    democrat  0.0  1.0  1.0  0.0  1.0  1.0  ...  0.0  1.0  0.0  1.0  0.0  0.0  1.0\n",
              "5    democrat  1.0  1.0  1.0  0.0  1.0  1.0  ...  0.0  1.0  0.0  1.0  0.0  1.0  1.0\n",
              "6    democrat  0.0  1.0  1.0  0.0  1.0  1.0  ...  0.0  0.0  0.0  1.0  0.0  1.0  1.0\n",
              "7    democrat  0.0  1.0  0.0  1.0  1.0  1.0  ...  0.0  0.0  0.0  1.0  0.0  1.0  1.0\n",
              "8  republican  0.0  1.0  0.0  1.0  1.0  1.0  ...  0.0  0.0  0.0  1.0  0.0  0.0  1.0\n",
              "9  republican  0.0  1.0  0.0  1.0  1.0  1.0  ...  0.0  0.0  1.0  1.0  0.0  0.0  1.0\n",
              "\n",
              "[10 rows x 17 columns]"
            ]
          },
          "metadata": {
            "tags": []
          },
          "execution_count": 3
        }
      ]
    },
    {
      "cell_type": "code",
      "metadata": {
        "colab": {
          "base_uri": "https://localhost:8080/"
        },
        "id": "o1S3n_RSkwCI",
        "outputId": "f6f2c3ba-4411-461d-be89-429881826bbd"
      },
      "source": [
        "data.shape"
      ],
      "execution_count": 9,
      "outputs": [
        {
          "output_type": "execute_result",
          "data": {
            "text/plain": [
              "(436, 17)"
            ]
          },
          "metadata": {
            "tags": []
          },
          "execution_count": 9
        }
      ]
    },
    {
      "cell_type": "code",
      "metadata": {
        "id": "ebZia0r3x7rr"
      },
      "source": [
        "# plt.figure(figsize=(10,10))\n",
        "# plt.scatter(data[0], data[1], alpha=0.2, s=120, c=data[2], cmap='viridis')\n",
        "# plt.xlabel('X0')\n",
        "# plt.ylabel('X1');\n",
        "# plt.title(f'Distribuição dos dados')"
      ],
      "execution_count": 10,
      "outputs": []
    },
    {
      "cell_type": "markdown",
      "metadata": {
        "id": "XAzaF8GUlEo5"
      },
      "source": [
        "### b. Funções"
      ]
    },
    {
      "cell_type": "code",
      "metadata": {
        "id": "PC_gVZZT7K3r"
      },
      "source": [
        "class GaussianDiscriminant():\n",
        "  def __init__(self):\n",
        "    pass\n",
        "\n",
        "  def fitAGD(self, X, y):\n",
        "    self.__classes = np.unique(y) # pegando as classes e ocorrencias\n",
        "    numClasses = len(self.__classes) #numero de classes\n",
        "    n, numFeatures = X.shape # numero de linhas e colunas do dataset \n",
        "    \n",
        "    self.__sigma = 0\n",
        "    self.__probabilidadeClasses = np.zeros((numClasses, 1))\n",
        "    self.__media = np.zeros((numClasses, numFeatures)) # criando a lista da media das classes por feature\n",
        "\n",
        "    for i in range(numClasses):\n",
        "        # flatnonzero retorna os indices em que os valores são diferentes de zero. O retorno é uma lista flat. \n",
        "        # A comparação y == classes vai retornar um array de 0's e 1's. \n",
        "        # E portanto a operaçao final vai pegar todos os indices em que a classe é igual ao y.\n",
        "        indices = np.flatnonzero(y == self.__classes[i])\n",
        "\n",
        "        self.__probabilidadeClasses[i] = len(indices)/ n\n",
        "        self.__media[i] = np.mean(X[indices], axis=0)\n",
        "        self.__sigma += np.cov(X[indices].T) *(len(indices)-1)\n",
        "        \n",
        "    self.__sigma /= n\n",
        "    \n",
        "    return {'media': self.__media, 'covar': self.__sigma, 'classes': self.__classes, 'numRows': n, 'numClasses': numClasses, \n",
        "            'numFeatures': numFeatures, 'probabilidadeClasses': self.__probabilidadeClasses }\n",
        "\n",
        "  def predict(self,X):\n",
        "    # Usando a distribuição gaussiana multivariada da biblioteca scipy.stats\n",
        "    # Basicamente o calculo da função densidade de probabilidade visto na imagem abaixo.\n",
        "    pdf = lambda mean: multivariate_normal.pdf(X, mean=mean, cov=self.__sigma)\n",
        "\n",
        "    # Apply a function to 1-D slices along the given axis\n",
        "    # No caso aplica a função fdp no axis 1 das médias\n",
        "    y_probs = np.apply_along_axis(pdf, 1, self.__media) * self.__probabilidadeClasses\n",
        "\n",
        "    return self.__classes[np.argmax(y_probs, axis=0)]"
      ],
      "execution_count": null,
      "outputs": []
    },
    {
      "cell_type": "markdown",
      "metadata": {
        "id": "q74OgHqKgKTZ"
      },
      "source": [
        "# 2. Visualizações"
      ]
    },
    {
      "cell_type": "code",
      "metadata": {
        "id": "BDocMAa-ERqV"
      },
      "source": [
        "from scipy import stats\n",
        "\n",
        "def plot_data(x, t, label=None):\n",
        "    plt.scatter(x, t, marker='o', c=\"k\", s=50, label=label)\n",
        "\n",
        "def plot_valor_esperado(x, y, label=None):\n",
        "    plt.plot(x, y, 'x', color='r', label=label)\n",
        "\n",
        "def plot_predictive(x, y, En, std_times=1):\n",
        "    y = y.ravel()\n",
        "    En = np.sqrt(En.ravel()) * std_times\n",
        "\n",
        "    plt.plot(x, y, label=\"Predição\")\n",
        "    plt.fill_between(x.ravel(), y + En, y - En, alpha = .5, label=\"Incerteza\")\n",
        "\n",
        "def plot_posterior_samples(x, ys, plot_xy_labels=True):\n",
        "    plt.plot(x, ys[:, 0], 'r--', alpha=0.5, label='Modelos')\n",
        "    for i in range(1, ys.shape[1]):\n",
        "        plt.plot(x, ys[:, i], 'r--', alpha=0.5)\n",
        "\n",
        "def plot_posterior(mean, cov, resolution = 100):\n",
        "    grid_x = grid_y = np.linspace(-1, 1, resolution)\n",
        "    grid_flat = np.dstack(np.meshgrid(grid_x, grid_y)).reshape(-1, 2)\n",
        "\n",
        "    densities = stats.multivariate_normal.pdf(grid_flat, mean=mean.ravel(), cov=cov).reshape(resolution, resolution)\n",
        "    plt.imshow(densities, origin='lower', extent=(-1, 1, -1, 1))"
      ],
      "execution_count": null,
      "outputs": []
    }
  ]
}